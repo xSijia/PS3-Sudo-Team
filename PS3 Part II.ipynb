{
 "cells": [
  {
   "cell_type": "code",
   "execution_count": 51,
   "metadata": {},
   "outputs": [
    {
     "name": "stdout",
     "output_type": "stream",
     "text": [
      "The average water level recorded is:  2.982323204419889\n",
      "The lowest water level recorded is  1.621  on   2018-10-11 15:36\n",
      "The highest water level recorded is 6.647  on   2018-10-10 18:06\n"
     ]
    }
   ],
   "source": [
    "import re\n",
    "import csv\n",
    "\n",
    "import pandas as pd\n",
    "\n",
    "data = pd.read_csv('/blue/bsc4452/share/Class_Files/data/CO-OPS__8729108__wl.csv')\n",
    "#renames the columns to lowercase nad no spaces since it breaks it\n",
    "data.columns = data.columns.str.strip().str.lower().str.replace(' ', '_').str.replace('(', '').str.replace(')', '')\n",
    "\n",
    "#print(data)\n",
    "#WaterLvl = data['water_level']\n",
    "\n",
    "maxWaterLvl = data['water_level'].max()\n",
    "minWaterLvl = data['water_level'].min()\n",
    "\n",
    "maxWaterDate = data.loc[data[\"water_level\"] == maxWaterLvl, \"date_time\"]\n",
    "minWaterDate = data.loc[data[\"water_level\"] == minWaterLvl, \"date_time\"]\n",
    "#print(maxWaterDate)\n",
    "\n",
    "maxWaterDateStr = maxWaterDate.to_string(index=False)\n",
    "minWaterDateStr = minWaterDate.to_string(index=False)\n",
    "\n",
    "#maxRow = data[data['water_level']==data['water_level'].max()]\n",
    "#minRow = data[data['water_level']==data['water_level'].min()]\n",
    "#print(maxRow)\n",
    "#print(minRow)\n",
    "\n",
    "\n",
    "WaterLvlMean = data['water_level'].mean()\n",
    "print(\"The average water level recorded is: \", WaterLvlMean)\n",
    "print(\"The lowest water level recorded is \", minWaterLvl, \" on \", minWaterDateStr)\n",
    "print(\"The highest water level recorded is\", maxWaterLvl, \" on \", maxWaterDateStr)\n",
    "\n",
    "\n"
   ]
  },
  {
   "cell_type": "code",
   "execution_count": null,
   "metadata": {},
   "outputs": [],
   "source": []
  },
  {
   "cell_type": "code",
   "execution_count": null,
   "metadata": {},
   "outputs": [],
   "source": []
  }
 ],
 "metadata": {
  "kernelspec": {
   "display_name": "Python 3.8 (full)",
   "language": "python",
   "name": "python3-3.8-ufrc"
  },
  "language_info": {
   "codemirror_mode": {
    "name": "ipython",
    "version": 3
   },
   "file_extension": ".py",
   "mimetype": "text/x-python",
   "name": "python",
   "nbconvert_exporter": "python",
   "pygments_lexer": "ipython3",
   "version": "3.8.5"
  }
 },
 "nbformat": 4,
 "nbformat_minor": 4
}
