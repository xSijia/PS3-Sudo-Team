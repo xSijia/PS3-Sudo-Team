{
 "cells": [
  {
   "cell_type": "code",
   "execution_count": 1,
   "metadata": {},
   "outputs": [
    {
     "name": "stdout",
     "output_type": "stream",
     "text": [
      "the maximum difference is: 0.6399999999999997\n",
      "the current data and time: 2018-10-10 17:36\n",
      "the next data and time: 2018-10-10 17:42\n"
     ]
    }
   ],
   "source": [
    "# use pandas(pd) instead of csv to open the file\n",
    "import pandas as pd\n",
    "\n",
    "file_name = 'CO-OPS__8729108__wl.csv' \n",
    "\n",
    "\n",
    "\n",
    "# use the read_csv method in pd to read the file\n",
    "# usecols option is uesd to ectract columns. Here we extract the first two columns\n",
    "\n",
    "data = pd.read_csv(file_name,usecols=[0,1])\n",
    "\n",
    "\n",
    "\n",
    "# start to get the maximim difference and both the date and time\n",
    "# set the initial max_diff level as a really small number -1e10 to make sure the following max_diff values are larger than that\n",
    "\n",
    "max_diff = -1e10\n",
    "num_rows = len(data.index)\n",
    "\n",
    "\n",
    "\n",
    "# run a for loop to get the max_diff\n",
    "\n",
    "for i in range(num_rows-1):                 # here we compare the consecutive two rows\n",
    "    curr_level = data.iloc[i,1]             # iloc is a method to extract data frame: i(th) row, second column\n",
    "    next_level = data.iloc[i+1,1]\n",
    "    level_diff = next_level - curr_level\n",
    "    if level_diff > max_diff:\n",
    "        max_diff = level_diff\n",
    "        curr_dt = data.iloc[i,0]\n",
    "        next_dt = data.iloc[i+1,0]\n",
    "\n",
    "print(\"the maximum difference is:\",max_diff)\n",
    "print(\"the current data and time:\",curr_dt)\n",
    "print(\"the next data and time:\",next_dt)"
   ]
  }
 ],
 "metadata": {
  "kernelspec": {
   "display_name": "Python 3.8 (full)",
   "language": "python",
   "name": "python3-3.8-ufrc"
  },
  "language_info": {
   "codemirror_mode": {
    "name": "ipython",
    "version": 3
   },
   "file_extension": ".py",
   "mimetype": "text/x-python",
   "name": "python",
   "nbconvert_exporter": "python",
   "pygments_lexer": "ipython3",
   "version": "3.8.5"
  }
 },
 "nbformat": 4,
 "nbformat_minor": 4
}
